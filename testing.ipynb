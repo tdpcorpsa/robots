{
 "cells": [
  {
   "cell_type": "code",
   "execution_count": 1,
   "metadata": {},
   "outputs": [],
   "source": [
    "from RPA.Windows import Windows\n",
    "from time import sleep\n",
    "from datetime import datetime\n",
    "from RPA.Desktop import Desktop\n",
    "import gspread as gs\n",
    "from tasks.crear_factura_ER import * \n",
    "\n",
    "win = Windows()\n",
    "desk = Desktop()\n",
    "gc = gs.service_account(filename='tdpcorp-139fbe6dbc3c.json')"
   ]
  },
  {
   "cell_type": "code",
   "execution_count": 2,
   "metadata": {},
   "outputs": [
    {
     "data": {
      "text/html": [
       "<pre style=\"white-space:pre;overflow-x:auto;line-height:normal;font-family:Menlo,'DejaVu Sans Mono',consolas,'Courier New',monospace\"><span style=\"font-weight: bold\">[</span>\n",
       "    <span style=\"color: #008000; text-decoration-color: #008000\">'P20603235780'</span>,\n",
       "    <span style=\"color: #008000; text-decoration-color: #008000\">'31.05.2023'</span>,\n",
       "    <span style=\"color: #008000; text-decoration-color: #008000\">'31.05.2023'</span>,\n",
       "    <span style=\"color: #008000; text-decoration-color: #008000\">'31.05.2023'</span>,\n",
       "    <span style=\"color: #008000; text-decoration-color: #008000\">'F001'</span>,\n",
       "    <span style=\"color: #008000; text-decoration-color: #008000\">'7182165'</span>,\n",
       "    <span style=\"color: #008000; text-decoration-color: #008000\">'ADMIN'</span>,\n",
       "    <span style=\"color: #008000; text-decoration-color: #008000\">'THERM'</span>,\n",
       "    <span style=\"color: #008000; text-decoration-color: #008000\">'MAGD'</span>,\n",
       "    <span style=\"color: #008000; text-decoration-color: #008000\">'CORP'</span>,\n",
       "    <span style=\"color: #008000; text-decoration-color: #008000\">'9763921'</span>,\n",
       "    <span style=\"color: #008000; text-decoration-color: #008000\">'103.15'</span>,\n",
       "    <span style=\"color: #008000; text-decoration-color: #008000\">'0'</span>,\n",
       "    <span style=\"color: #008000; text-decoration-color: #008000\">'121.72'</span>,\n",
       "    <span style=\"color: #008000; text-decoration-color: #008000\">'COMISION IZIPAY 05/2023'</span>,\n",
       "    <span style=\"color: #008000; text-decoration-color: #008000\">''</span>,\n",
       "    <span style=\"color: #008000; text-decoration-color: #008000\">'0'</span>\n",
       "<span style=\"font-weight: bold\">]</span>\n",
       "</pre>\n"
      ],
      "text/plain": [
       "\u001b[1m[\u001b[0m\n",
       "    \u001b[32m'P20603235780'\u001b[0m,\n",
       "    \u001b[32m'31.05.2023'\u001b[0m,\n",
       "    \u001b[32m'31.05.2023'\u001b[0m,\n",
       "    \u001b[32m'31.05.2023'\u001b[0m,\n",
       "    \u001b[32m'F001'\u001b[0m,\n",
       "    \u001b[32m'7182165'\u001b[0m,\n",
       "    \u001b[32m'ADMIN'\u001b[0m,\n",
       "    \u001b[32m'THERM'\u001b[0m,\n",
       "    \u001b[32m'MAGD'\u001b[0m,\n",
       "    \u001b[32m'CORP'\u001b[0m,\n",
       "    \u001b[32m'9763921'\u001b[0m,\n",
       "    \u001b[32m'103.15'\u001b[0m,\n",
       "    \u001b[32m'0'\u001b[0m,\n",
       "    \u001b[32m'121.72'\u001b[0m,\n",
       "    \u001b[32m'COMISION IZIPAY 05/2023'\u001b[0m,\n",
       "    \u001b[32m''\u001b[0m,\n",
       "    \u001b[32m'0'\u001b[0m\n",
       "\u001b[1m]\u001b[0m\n"
      ]
     },
     "metadata": {},
     "output_type": "display_data"
    },
    {
     "data": {
      "text/html": [
       "<pre style=\"white-space:pre;overflow-x:auto;line-height:normal;font-family:Menlo,'DejaVu Sans Mono',consolas,'Courier New',monospace\">Formulario de factura de proveedores abierto\n",
       "</pre>\n"
      ],
      "text/plain": [
       "Formulario de factura de proveedores abierto\n"
      ]
     },
     "metadata": {},
     "output_type": "display_data"
    }
   ],
   "source": [
    "data = leer_hoja()\n",
    "console.print(data)\n",
    "formulario_factura_de_proveedores()\n",
    "llenar_datos_factura(data)\n"
   ]
  },
  {
   "cell_type": "code",
   "execution_count": 6,
   "metadata": {},
   "outputs": [
    {
     "data": {
      "text/plain": [
       "[]"
      ]
     },
     "execution_count": 6,
     "metadata": {},
     "output_type": "execute_result"
    }
   ],
   "source": [
    "worksheet = workbook.get_worksheet_by_id(0)\n",
    "data = worksheet.row_values(2)\n",
    "data"
   ]
  },
  {
   "cell_type": "code",
   "execution_count": null,
   "metadata": {},
   "outputs": [],
   "source": []
  }
 ],
 "metadata": {
  "kernelspec": {
   "display_name": "Python 3.10.7 ('.env': venv)",
   "language": "python",
   "name": "python3"
  },
  "language_info": {
   "codemirror_mode": {
    "name": "ipython",
    "version": 3
   },
   "file_extension": ".py",
   "mimetype": "text/x-python",
   "name": "python",
   "nbconvert_exporter": "python",
   "pygments_lexer": "ipython3",
   "version": "3.11.2"
  },
  "orig_nbformat": 4,
  "vscode": {
   "interpreter": {
    "hash": "40b19b79d3a4486fd26f1a7d737236369660f4d89909e5bac47e24d293680d0f"
   }
  }
 },
 "nbformat": 4,
 "nbformat_minor": 2
}
