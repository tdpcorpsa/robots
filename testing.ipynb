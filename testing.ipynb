{
 "cells": [
  {
   "cell_type": "code",
   "execution_count": null,
   "metadata": {},
   "outputs": [],
   "source": [
    "from RPA.Windows import Windows\n",
    "from time import sleep\n",
    "from datetime import datetime\n",
    "from RPA.Desktop import Desktop\n",
    "import gspread as gs\n",
    "from tasks.crear_factura_ER import * \n",
    "import gspread as gs\n",
    "import pandas as pd\n",
    "import warnings\n",
    "warnings.filterwarnings('ignore')\n",
    "\n",
    "win = Windows()\n",
    "desk = Desktop()\n",
    "gc = gs.service_account(filename='tdpcorp-139fbe6dbc3c.json')"
   ]
  },
  {
   "cell_type": "code",
   "execution_count": null,
   "metadata": {},
   "outputs": [],
   "source": [
    "# connection to sql server \n",
    "import pyodbc\n",
    "db_name = 'SBO_TDPC_TEST'\n",
    "\n",
    "## string connection\n",
    "def get_conn_sql(db_name='SBO_TDPC_TEST'):\n",
    "    conn = pyodbc.connect('DRIVER={SQL Server};SERVER=TDPSERVERW19;DATABASE=%s;UID=sa;PWD=Passw0rd' % db_name)\n",
    "\n",
    "    return conn\n",
    "\n",
    "conn = get_conn_sql()"
   ]
  },
  {
   "cell_type": "code",
   "execution_count": null,
   "metadata": {},
   "outputs": [],
   "source": [
    "def get_servision(conn, codigos):\n",
    "    # return in df\n",
    "    query = \"\"\"SELECT *\n",
    "     FROM [@SYP_SERVICIOS] T0 WHERE T0.[Code] IN (%s)\"\"\" % ','.join([str(f\"'{c}'\") for c in codigos])\n",
    "    df = pd.read_sql(query, conn)\n",
    "    return df\n",
    "get_servision(conn, [9865611, 9865911])"
   ]
  },
  {
   "cell_type": "code",
   "execution_count": null,
   "metadata": {},
   "outputs": [],
   "source": [
    "# leer datos desde google sheet\n",
    "\n",
    "gc = gs.service_account(filename='tdpcorp-139fbe6dbc3c.json')\n",
    "WB = 'https://docs.google.com/spreadsheets/d/11HyZN62kfRManwuUz5jNDj7wtr8YFWJz1M5zWlTcS9Q/edit#gid=0'\n",
    "\n",
    "workbook = gc.open_by_url(WB)\n",
    "worksheet = workbook.get_worksheet_by_id(0)\n",
    "def cargar_data():\n",
    "    # cargar en un dataframe\n",
    "    data = worksheet.get_all_values()\n",
    "    df = pd.DataFrame(data[1:], columns=data[0])\n",
    "    # completar datos en tipo blanco y na\n",
    "    df['Tipo de Documento'] = df['Tipo de Documento'].replace('', '01').fillna('01')\n",
    "\n",
    "    # actualizar tipo de compra solo si Numero CC/ER esta vacio\n",
    "    df.loc[df['Numero CC/ER'] == '', 'Tipo de Compra'] = '01'\n",
    "    df['Tipo de Compra'] = df['Tipo de Compra'].fillna('CC')\n",
    "\n",
    "    # casting to datetime format dd.mm.yyyy\n",
    "    df['Fecha de contabilización'] = pd.to_datetime(df['Fecha de contabilización'], format='%d.%m.%Y')\n",
    "    df['Fecha del documento'] = pd.to_datetime(df['Fecha del documento'], format='%d.%m.%Y')\n",
    "    df['Fecha de vencimiento'] = pd.to_datetime(df['Fecha de vencimiento'], format='%d.%m.%Y')\n",
    "    # casting to float\n",
    "    df['Precio por unidad'] = df['Precio por unidad'].astype(float)\n",
    "    df['Total (ML)'] = df['Total (ML)'].astype(float)\n",
    "    # add services name\n",
    "    servicios_df = get_servision(conn, df['Codigo de Gasto'].unique())[['Code', 'U_SYP_Concepto']]\n",
    "    df = df.merge(servicios_df, left_on='Codigo de Gasto', right_on='Code', how='left')\n",
    "    # add index\n",
    "    df['No.Ref.del acreedor'] = df['Tipo de Documento'].str.cat(df[['Serie del Documento','Correlativo del Documento']], sep='-')\n",
    "    df.set_index('No.Ref.del acreedor', inplace=True)\n",
    "    return df\n",
    "\n"
   ]
  },
  {
   "cell_type": "code",
   "execution_count": null,
   "metadata": {},
   "outputs": [],
   "source": [
    "df = cargar_data()"
   ]
  },
  {
   "attachments": {},
   "cell_type": "markdown",
   "metadata": {},
   "source": []
  },
  {
   "cell_type": "code",
   "execution_count": null,
   "metadata": {},
   "outputs": [],
   "source": [
    "import requests\n",
    "import json\n",
    "\n",
    "URL_BASE = 'https://192.168.208.109:50000'\n",
    "\n",
    "# URL para el inicio de sesión (login)\n",
    "login_url = f'{URL_BASE}/b1s/v1/Login'\n",
    "\n",
    "# Datos de inicio de sesión\n",
    "credentials = {\n",
    "    'CompanyDB': db_name,\n",
    "    'UserName': 'manager',\n",
    "    'Password': '1234'\n",
    "}\n",
    "\n",
    "def login(credentials):\n",
    "    # Configurar encabezados de la solicitud\n",
    "    headers = {\n",
    "        'Content-Type': 'application/json'\n",
    "    }\n",
    "    json_data = json.dumps(credentials)\n",
    "    # Realizar la solicitud POST para el inicio de sesión\n",
    "    response = requests.post(login_url, data=json_data, headers=headers, verify=False)\n",
    "\n",
    "    # Verificar la respuesta y obtener el token de autenticación\n",
    "    session_id = response.json()['SessionId']\n",
    "    return session_id\n"
   ]
  },
  {
   "cell_type": "code",
   "execution_count": null,
   "metadata": {},
   "outputs": [],
   "source": [
    "\n",
    "def make_invoices(df):\n",
    "    invoices = []\n",
    "    new_df = df[df['DocNum'] == '']\n",
    "    for index in new_df.index.unique():\n",
    "        infoice_df = df.loc[[index]]\n",
    "        invoice = {\n",
    "            \"CardCode\": infoice_df['Proveedor'].iloc[0],\n",
    "            \"NumAtCard\": index,\n",
    "            # fechas\n",
    "            \"DocDate\": infoice_df['Fecha de contabilización'].iloc[0].strftime('%Y-%m-%d'),\n",
    "            \"DocDueDate\": infoice_df['Fecha de vencimiento'].iloc[0].strftime('%Y-%m-%d'),\n",
    "            \"TaxDate\": infoice_df['Fecha del documento'].iloc[0].strftime('%Y-%m-%d'),\n",
    "            \"DocType\": \"S\",\n",
    "            # Numero de factura\n",
    "            \"U_SYP_MDTD\": infoice_df['Tipo de Documento'].iloc[0],\n",
    "            \"U_SYP_MDSD\": infoice_df['Serie del Documento'].iloc[0],\n",
    "            \"U_SYP_MDCD\": infoice_df['Correlativo del Documento'].iloc[0],\n",
    "            \"U_SYP_TCOMPRA\": infoice_df['Tipo de Compra'].iloc[0],\n",
    "            \"comments\": infoice_df['Comentarios'].iloc[0],\n",
    "        }\n",
    "        if infoice_df['Tipo de Compra'].iloc[0] == 'CC':\n",
    "            invoice['U_SYP_CODERCC'] = infoice_df['Numero CC/ER'].iloc[0]\n",
    "\n",
    "        invoice_lines = []\n",
    "        for index, row in infoice_df.iterrows():\n",
    "            invoice_lines.append({\n",
    "                \"AccountCode\": row['Codigo de Gasto'],\n",
    "                \"U_SYP_TIPOSERV\": row['Codigo de Gasto'],\n",
    "                \"Description\": row['U_SYP_Concepto'],\n",
    "                \"Quantity\": 1,\n",
    "                \"UnitPrice\": row['Precio por unidad'],\n",
    "                \"TaxCode\": row['Indicador de impuestos'],\n",
    "                # centro de costo\n",
    "                \"CostingCode\": row['Centro de Costos'],\n",
    "                \"CostingCode2\": row['Unidad de negocio'],\n",
    "                \"CostingCode3\": row['Local'],\n",
    "                \"CostingCode4\": row['Canal de distribución'],\n",
    "                # Total (ML)\n",
    "                \"LineTotal\": row['Total (ML)']\n",
    "            })\n",
    "\n",
    "        invoice['DocumentLines'] = invoice_lines\n",
    "        invoices.append(invoice)\n",
    "    return invoices\n",
    "\n"
   ]
  },
  {
   "cell_type": "code",
   "execution_count": null,
   "metadata": {},
   "outputs": [],
   "source": [
    "def create_invoice(invoice, session_id):\n",
    "\n",
    "    headers = {\n",
    "        'Content-Type': 'application/json',\n",
    "        'Cookie': f'B1SESSION={session_id}'\n",
    "    }\n",
    "    json_data = json.dumps(invoice)\n",
    "    response = requests.post(f'{URL_BASE}/b1s/v1/PurchaseInvoices', data=json_data, headers=headers, verify=False)\n",
    "    return response.json()\n",
    "\n"
   ]
  },
  {
   "cell_type": "code",
   "execution_count": null,
   "metadata": {},
   "outputs": [],
   "source": [
    "from rich import print\n",
    "\n",
    "invoices = make_invoices(df)\n",
    "session_id = login(credentials)\n",
    "#print(invoices)\n",
    "for invoice in invoices:\n",
    "    req = create_invoice(invoice, session_id)\n",
    "    try:\n",
    "        df.loc[req[\"NumAtCard\"], \"DocNum\"] = str(req[\"DocNum\"])\n",
    "    except:\n",
    "        df.loc[invoice[\"NumAtCard\"], \"Error\"] = req[\"error\"][\"message\"][\"value\"]\n",
    "print(df[['DocNum', 'Error']].fillna('-'))"
   ]
  },
  {
   "cell_type": "code",
   "execution_count": null,
   "metadata": {},
   "outputs": [],
   "source": [
    "import numpy as np\n",
    "doc_num = df['DocNum'].fillna('').to_numpy().reshape(-1, 1)\n",
    "worksheet.update('W2', doc_num.tolist())\n",
    "errors = df['Error'].fillna('').to_numpy().reshape(-1, 1)\n",
    "worksheet.update('X2', errors.tolist())"
   ]
  }
 ],
 "metadata": {
  "kernelspec": {
   "display_name": "Python 3.10.7 ('.env': venv)",
   "language": "python",
   "name": "python3"
  },
  "language_info": {
   "codemirror_mode": {
    "name": "ipython",
    "version": 3
   },
   "file_extension": ".py",
   "mimetype": "text/x-python",
   "name": "python",
   "nbconvert_exporter": "python",
   "pygments_lexer": "ipython3",
   "version": "3.11.2"
  },
  "orig_nbformat": 4,
  "vscode": {
   "interpreter": {
    "hash": "40b19b79d3a4486fd26f1a7d737236369660f4d89909e5bac47e24d293680d0f"
   }
  }
 },
 "nbformat": 4,
 "nbformat_minor": 2
}
