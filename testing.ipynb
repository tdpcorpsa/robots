{
 "cells": [
  {
   "cell_type": "code",
   "execution_count": null,
   "metadata": {},
   "outputs": [],
   "source": [
    "from tasks.purchase_invoice import login, URL_BASE\n",
    "import requests\n",
    "from rich import print"
   ]
  },
  {
   "cell_type": "code",
   "execution_count": null,
   "metadata": {},
   "outputs": [],
   "source": [
    "token_access = login(\n",
    "    'manager',\n",
    "    '1234',\n",
    "    'SBO_TDPC_TEST'\n",
    ")"
   ]
  },
  {
   "cell_type": "code",
   "execution_count": null,
   "metadata": {},
   "outputs": [],
   "source": [
    "invoice_id = '230900179'\n",
    "doc_entry = 54641\n",
    "headers = {\n",
    "    'Content-Type': 'application/json',\n",
    "    'Cookie': f'B1SESSION={token_access}'\n",
    "}"
   ]
  },
  {
   "cell_type": "code",
   "execution_count": null,
   "metadata": {},
   "outputs": [],
   "source": [
    "api_url = f\"{URL_BASE}/b1s/v1/PurchaseInvoices({doc_entry})\"\n",
    "res = requests.get(api_url, headers=headers, verify=False)\n",
    "num_at_card = '01-F002-247254'\n",
    "url = f'{URL_BASE}/b1s/v1/PurchaseInvoices?$filter=NumAtCard eq \\'{num_at_card}\\''\n",
    "    \n",
    "response = requests.get(url, headers=headers, verify=False)\n",
    "# check if exist\n",
    "if response.status_code == 200:\n",
    "    if response.json()['value']:\n",
    "        print(response.json()['value'][0]['DocNum'])\n",
    "    else:\n",
    "        print('not exist')"
   ]
  },
  {
   "cell_type": "code",
   "execution_count": null,
   "metadata": {},
   "outputs": [],
   "source": [
    "res = requests.get(f\"{URL_BASE}/b1s/v1/Attachments2\", headers=headers, verify=False)\n",
    "print(res.json())"
   ]
  },
  {
   "cell_type": "code",
   "execution_count": null,
   "metadata": {},
   "outputs": [],
   "source": [
    "\n",
    " \n",
    "api_url_attach = f\"{URL_BASE}/b1s/v1/Attachments2\"\n",
    "\n",
    "file_path = \"OC 230700424.pdf\"\n",
    "\n",
    "# Define the boundary for the multipart form data\n",
    "boundary = \"WebKitFormBoundaryUmZoXOtOBNCTLyxT\"\n",
    "\n",
    "# Define the content type for the file\n",
    "content_type = \"application/pdf\"\n",
    "\n",
    "# Prepare the request body with the file content\n",
    "file_data = open(file_path, \"rb\").read()\n",
    "\n",
    "# Build the multipart/form-data request body\n",
    "data = (\n",
    "    f\"--{boundary}\\r\\n\"\n",
    "    f\"Content-Disposition: form-data; name=\\\"files\\\"; filename=\\\"{file_path}\\\"\\r\\n\"\n",
    "    f\"Content-Type: {content_type}\\r\\n\\r\\n\"\n",
    "    f\"{file_data}\\r\\n\"\n",
    "    f\"--{boundary}--\\r\\n\"\n",
    ")\n",
    "\n",
    "# Set the Content-Type header with the boundary\n",
    "headers[\"Content-Type\"] = f\"multipart/form-data; boundary={boundary}\"\n",
    "\n",
    "# Make the POST request to upload the file\n",
    "response = requests.post(\n",
    "    api_url_attach,\n",
    "    headers=headers,\n",
    "    data=data,\n",
    "    verify=False\n",
    ")\n",
    "\n",
    "# Check the response status and handle any errors\n",
    "if response.status_code == 201:\n",
    "    print(\"File uploaded successfully.\")\n",
    "else:\n",
    "    print(f\"Error uploading file: {response.status_code} - {response.text}\")\n",
    "\n"
   ]
  },
  {
   "cell_type": "code",
   "execution_count": null,
   "metadata": {},
   "outputs": [],
   "source": []
  },
  {
   "cell_type": "code",
   "execution_count": null,
   "metadata": {},
   "outputs": [],
   "source": [
    "res = requests.get(api_url_attach, headers=headers, verify=False)\n",
    "res.json()"
   ]
  },
  {
   "cell_type": "code",
   "execution_count": 35,
   "metadata": {},
   "outputs": [
    {
     "data": {
      "text/html": [
       "<pre style=\"white-space:pre;overflow-x:auto;line-height:normal;font-family:Menlo,'DejaVu Sans Mono',consolas,'Courier New',monospace\"><span style=\"font-weight: bold\">{</span><span style=\"color: #008000; text-decoration-color: #008000\">'value'</span>: <span style=\"color: #008000; text-decoration-color: #008000\">'Error al crear la factura de compra'</span><span style=\"font-weight: bold\">}</span>\n",
       "</pre>\n"
      ],
      "text/plain": [
       "\u001b[1m{\u001b[0m\u001b[32m'value'\u001b[0m: \u001b[32m'Error al crear la factura de compra'\u001b[0m\u001b[1m}\u001b[0m\n"
      ]
     },
     "metadata": {},
     "output_type": "display_data"
    },
    {
     "data": {
      "text/html": [
       "<pre style=\"white-space:pre;overflow-x:auto;line-height:normal;font-family:Menlo,'DejaVu Sans Mono',consolas,'Courier New',monospace\"><span style=\"font-weight: bold\">{</span><span style=\"color: #008000; text-decoration-color: #008000\">'value'</span>: <span style=\"color: #008000; text-decoration-color: #008000\">'Error al crear la factura de compra'</span><span style=\"font-weight: bold\">}</span>\n",
       "</pre>\n"
      ],
      "text/plain": [
       "\u001b[1m{\u001b[0m\u001b[32m'value'\u001b[0m: \u001b[32m'Error al crear la factura de compra'\u001b[0m\u001b[1m}\u001b[0m\n"
      ]
     },
     "metadata": {},
     "output_type": "display_data"
    }
   ],
   "source": [
    "try:\n",
    "    raise Exception({'value': 'Error al crear la factura de compra'})\n",
    "except Exception as e:\n",
    "    print(e)\n",
    "    print(e.args[0])"
   ]
  }
 ],
 "metadata": {
  "kernelspec": {
   "display_name": "Python 3.10.7 ('.env': venv)",
   "language": "python",
   "name": "python3"
  },
  "language_info": {
   "codemirror_mode": {
    "name": "ipython",
    "version": 3
   },
   "file_extension": ".py",
   "mimetype": "text/x-python",
   "name": "python",
   "nbconvert_exporter": "python",
   "pygments_lexer": "ipython3",
   "version": "3.11.2"
  },
  "orig_nbformat": 4,
  "vscode": {
   "interpreter": {
    "hash": "40b19b79d3a4486fd26f1a7d737236369660f4d89909e5bac47e24d293680d0f"
   }
  }
 },
 "nbformat": 4,
 "nbformat_minor": 2
}
