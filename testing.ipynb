{
 "cells": [
  {
   "cell_type": "code",
   "execution_count": 1,
   "metadata": {},
   "outputs": [],
   "source": [
    "from RPA.Windows import Windows\n",
    "from time import sleep\n",
    "from datetime import datetime\n",
    "from RPA.Desktop import Desktop\n",
    "import gspread as gs\n",
    "from tasks.crear_factura_ER import * \n",
    "\n",
    "win = Windows()\n",
    "desk = Desktop()\n",
    "gc = gs.service_account(filename='tdpcorp-139fbe6dbc3c.json')"
   ]
  },
  {
   "cell_type": "code",
   "execution_count": 2,
   "metadata": {},
   "outputs": [
    {
     "data": {
      "text/html": [
       "<pre style=\"white-space:pre;overflow-x:auto;line-height:normal;font-family:Menlo,'DejaVu Sans Mono',consolas,'Courier New',monospace\"><span style=\"font-weight: bold\">[</span>\n",
       "    <span style=\"color: #008000; text-decoration-color: #008000\">'P20418463644'</span>,\n",
       "    <span style=\"color: #008000; text-decoration-color: #008000\">'27.04.2023'</span>,\n",
       "    <span style=\"color: #008000; text-decoration-color: #008000\">'01.05.2023'</span>,\n",
       "    <span style=\"color: #008000; text-decoration-color: #008000\">'01.05.2023'</span>,\n",
       "    <span style=\"color: #008000; text-decoration-color: #008000\">'F834'</span>,\n",
       "    <span style=\"color: #008000; text-decoration-color: #008000\">'11732'</span>,\n",
       "    <span style=\"color: #008000; text-decoration-color: #008000\">'OPER'</span>,\n",
       "    <span style=\"color: #008000; text-decoration-color: #008000\">'THERM'</span>,\n",
       "    <span style=\"color: #008000; text-decoration-color: #008000\">'LURIN'</span>,\n",
       "    <span style=\"color: #008000; text-decoration-color: #008000\">'DELIVERY'</span>,\n",
       "    <span style=\"color: #008000; text-decoration-color: #008000\">'9263111'</span>,\n",
       "    <span style=\"color: #008000; text-decoration-color: #008000\">'8.03'</span>,\n",
       "    <span style=\"color: #008000; text-decoration-color: #008000\">'0'</span>,\n",
       "    <span style=\"color: #008000; text-decoration-color: #008000\">'9.8'</span>,\n",
       "    <span style=\"color: #008000; text-decoration-color: #008000\">'RECARGO POR DELIVERY'</span>,\n",
       "    <span style=\"color: #008000; text-decoration-color: #008000\">'1011116-23015'</span>,\n",
       "    <span style=\"color: #008000; text-decoration-color: #008000\">'0'</span>\n",
       "<span style=\"font-weight: bold\">]</span>\n",
       "</pre>\n"
      ],
      "text/plain": [
       "\u001b[1m[\u001b[0m\n",
       "    \u001b[32m'P20418463644'\u001b[0m,\n",
       "    \u001b[32m'27.04.2023'\u001b[0m,\n",
       "    \u001b[32m'01.05.2023'\u001b[0m,\n",
       "    \u001b[32m'01.05.2023'\u001b[0m,\n",
       "    \u001b[32m'F834'\u001b[0m,\n",
       "    \u001b[32m'11732'\u001b[0m,\n",
       "    \u001b[32m'OPER'\u001b[0m,\n",
       "    \u001b[32m'THERM'\u001b[0m,\n",
       "    \u001b[32m'LURIN'\u001b[0m,\n",
       "    \u001b[32m'DELIVERY'\u001b[0m,\n",
       "    \u001b[32m'9263111'\u001b[0m,\n",
       "    \u001b[32m'8.03'\u001b[0m,\n",
       "    \u001b[32m'0'\u001b[0m,\n",
       "    \u001b[32m'9.8'\u001b[0m,\n",
       "    \u001b[32m'RECARGO POR DELIVERY'\u001b[0m,\n",
       "    \u001b[32m'1011116-23015'\u001b[0m,\n",
       "    \u001b[32m'0'\u001b[0m\n",
       "\u001b[1m]\u001b[0m\n"
      ]
     },
     "metadata": {},
     "output_type": "display_data"
    },
    {
     "data": {
      "text/html": [
       "<pre style=\"white-space:pre;overflow-x:auto;line-height:normal;font-family:Menlo,'DejaVu Sans Mono',consolas,'Courier New',monospace\">Formulario de factura de proveedores abierto\n",
       "</pre>\n"
      ],
      "text/plain": [
       "Formulario de factura de proveedores abierto\n"
      ]
     },
     "metadata": {},
     "output_type": "display_data"
    },
    {
     "ename": "ValueError",
     "evalue": "could not convert string to float: ''",
     "output_type": "error",
     "traceback": [
      "\u001b[1;31m---------------------------------------------------------------------------\u001b[0m",
      "\u001b[1;31mValueError\u001b[0m                                Traceback (most recent call last)",
      "Cell \u001b[1;32mIn[2], line 4\u001b[0m\n\u001b[0;32m      2\u001b[0m console\u001b[39m.\u001b[39mprint(data)\n\u001b[0;32m      3\u001b[0m formulario_factura_de_proveedores()\n\u001b[1;32m----> 4\u001b[0m llenar_datos_factura(data)\n",
      "File \u001b[1;32mc:\\projects\\tdpcorp\\robots\\tasks\\crear_factura_ER.py:94\u001b[0m, in \u001b[0;36mllenar_datos_factura\u001b[1;34m(data)\u001b[0m\n\u001b[0;32m     92\u001b[0m sleep(\u001b[39m0.5\u001b[39m)\n\u001b[0;32m     93\u001b[0m desk\u001b[39m.\u001b[39mclick(\u001b[39mf\u001b[39m\u001b[39m'\u001b[39m\u001b[39mcoordinates:\u001b[39m\u001b[39m{\u001b[39;00mcontrol\u001b[39m.\u001b[39mright\u001b[39m \u001b[39m\u001b[39m-\u001b[39m\u001b[39m \u001b[39m\u001b[39m270\u001b[39m\u001b[39m}\u001b[39;00m\u001b[39m,\u001b[39m\u001b[39m{\u001b[39;00mcontrol\u001b[39m.\u001b[39mbottom\u001b[39m \u001b[39m\u001b[39m-\u001b[39m\u001b[39m \u001b[39m\u001b[39m170\u001b[39m\u001b[39m}\u001b[39;00m\u001b[39m'\u001b[39m)\n\u001b[1;32m---> 94\u001b[0m total_fac \u001b[39m=\u001b[39m \u001b[39mfloat\u001b[39;49m(desk\u001b[39m.\u001b[39;49mget_clipboard_value()\u001b[39m.\u001b[39;49msplit(\u001b[39m'\u001b[39;49m\u001b[39m \u001b[39;49m\u001b[39m'\u001b[39;49m)[\u001b[39m1\u001b[39;49m]\u001b[39m.\u001b[39;49mreplace(\u001b[39m'\u001b[39;49m\u001b[39m,\u001b[39;49m\u001b[39m'\u001b[39;49m,\u001b[39m'\u001b[39;49m\u001b[39m'\u001b[39;49m))\n\u001b[0;32m     95\u001b[0m total_fac \u001b[39m-\u001b[39m \u001b[39mfloat\u001b[39m(total)\n\u001b[0;32m     96\u001b[0m win\u001b[39m.\u001b[39msend_keys(keys\u001b[39m=\u001b[39m\u001b[39mf\u001b[39m\u001b[39m'\u001b[39m\u001b[39m{\u001b[39;00m\u001b[39mfloat\u001b[39m(total)\u001b[39m \u001b[39m\u001b[39m-\u001b[39m\u001b[39m \u001b[39mtotal_fac\u001b[39m}\u001b[39;00m\u001b[39m'\u001b[39m)\n",
      "\u001b[1;31mValueError\u001b[0m: could not convert string to float: ''"
     ]
    }
   ],
   "source": [
    "data = leer_hoja()\n",
    "console.print(data)\n",
    "formulario_factura_de_proveedores()\n",
    "llenar_datos_factura(data)\n"
   ]
  },
  {
   "cell_type": "code",
   "execution_count": null,
   "metadata": {},
   "outputs": [],
   "source": [
    "worksheet = workbook.get_worksheet_by_id(0)\n",
    "data = worksheet.row_values(2)\n",
    "data"
   ]
  },
  {
   "cell_type": "code",
   "execution_count": null,
   "metadata": {},
   "outputs": [],
   "source": []
  }
 ],
 "metadata": {
  "kernelspec": {
   "display_name": "Python 3.10.7 ('.env': venv)",
   "language": "python",
   "name": "python3"
  },
  "language_info": {
   "codemirror_mode": {
    "name": "ipython",
    "version": 3
   },
   "file_extension": ".py",
   "mimetype": "text/x-python",
   "name": "python",
   "nbconvert_exporter": "python",
   "pygments_lexer": "ipython3",
   "version": "3.11.2"
  },
  "orig_nbformat": 4,
  "vscode": {
   "interpreter": {
    "hash": "40b19b79d3a4486fd26f1a7d737236369660f4d89909e5bac47e24d293680d0f"
   }
  }
 },
 "nbformat": 4,
 "nbformat_minor": 2
}
