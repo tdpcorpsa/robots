{
 "cells": [
  {
   "cell_type": "code",
   "execution_count": 1,
   "metadata": {},
   "outputs": [],
   "source": [
    "from tasks.utils import login\n",
    "from tasks.purchase_invoice_validate import (\n",
    "    get_purchase_invoice_data,\n",
    "    login_sunat,\n",
    "    validate_sunat,\n",
    "    run,\n",
    ")\n",
    "import datetime\n",
    "import requests\n",
    "\n",
    "from rich import print"
   ]
  },
  {
   "cell_type": "code",
   "execution_count": 2,
   "metadata": {},
   "outputs": [],
   "source": [
    "\n",
    "token_access = login(\n",
    "    'manager',\n",
    "    '1234',\n",
    "    'SBO_TDPC_TEST'\n",
    ")\n"
   ]
  },
  {
   "cell_type": "code",
   "execution_count": 3,
   "metadata": {},
   "outputs": [
    {
     "data": {
      "text/html": [
       "<pre style=\"white-space:pre;overflow-x:auto;line-height:normal;font-family:Menlo,'DejaVu Sans Mono',consolas,'Courier New',monospace\">  Numero SAP     Proveedor                Razon Social Fecha de Emision  \\\n",
       "<span style=\"color: #008080; text-decoration-color: #008080; font-weight: bold\">0</span>  <span style=\"color: #008080; text-decoration-color: #008080; font-weight: bold\">231000000</span>  P20601009171               YUCA E.I.R.L.       <span style=\"color: #008080; text-decoration-color: #008080; font-weight: bold\">01</span>/<span style=\"color: #008080; text-decoration-color: #008080; font-weight: bold\">10</span>/<span style=\"color: #008080; text-decoration-color: #008080; font-weight: bold\">2023</span>   \n",
       "<span style=\"color: #008080; text-decoration-color: #008080; font-weight: bold\">1</span>  <span style=\"color: #008080; text-decoration-color: #008080; font-weight: bold\">231000001</span>  P20101266819  CAMARA DE COMERCIO DE LIMA       <span style=\"color: #008080; text-decoration-color: #008080; font-weight: bold\">02</span>/<span style=\"color: #008080; text-decoration-color: #008080; font-weight: bold\">10</span>/<span style=\"color: #008080; text-decoration-color: #008080; font-weight: bold\">2023</span>   \n",
       "<span style=\"color: #008080; text-decoration-color: #008080; font-weight: bold\">2</span>  <span style=\"color: #008080; text-decoration-color: #008080; font-weight: bold\">231000002</span>  P20101266819  CAMARA DE COMERCIO DE LIMA       <span style=\"color: #008080; text-decoration-color: #008080; font-weight: bold\">02</span>/<span style=\"color: #008080; text-decoration-color: #008080; font-weight: bold\">10</span>/<span style=\"color: #008080; text-decoration-color: #008080; font-weight: bold\">2023</span>   \n",
       "\n",
       "  Tipo de Comprobante Serie  Numero  Monto Estado Comprobante Estado RUC  \\\n",
       "<span style=\"color: #008080; text-decoration-color: #008080; font-weight: bold\">0</span>                  <span style=\"color: #008080; text-decoration-color: #008080; font-weight: bold\">01</span>  F777   <span style=\"color: #008080; text-decoration-color: #008080; font-weight: bold\">38700</span>  <span style=\"color: #008080; text-decoration-color: #008080; font-weight: bold\">67.97</span>                  <span style=\"color: #008080; text-decoration-color: #008080; font-weight: bold\">1</span>         <span style=\"color: #008080; text-decoration-color: #008080; font-weight: bold\">00</span>   \n",
       "<span style=\"color: #008080; text-decoration-color: #008080; font-weight: bold\">1</span>                  <span style=\"color: #008080; text-decoration-color: #008080; font-weight: bold\">01</span>  F038  <span style=\"color: #008080; text-decoration-color: #008080; font-weight: bold\">168800</span>  <span style=\"color: #008080; text-decoration-color: #008080; font-weight: bold\">130.0</span>                  <span style=\"color: #008080; text-decoration-color: #008080; font-weight: bold\">1</span>         <span style=\"color: #008080; text-decoration-color: #008080; font-weight: bold\">00</span>   \n",
       "<span style=\"color: #008080; text-decoration-color: #008080; font-weight: bold\">2</span>                  <span style=\"color: #008080; text-decoration-color: #008080; font-weight: bold\">01</span>  F038  <span style=\"color: #008080; text-decoration-color: #008080; font-weight: bold\">169907</span>   <span style=\"color: #008080; text-decoration-color: #008080; font-weight: bold\">20.0</span>                                 \n",
       "\n",
       "  Condicion Domicilio RUC        Observaciones  \n",
       "<span style=\"color: #008080; text-decoration-color: #008080; font-weight: bold\">0</span>                      <span style=\"color: #008080; text-decoration-color: #008080; font-weight: bold\">00</span>  Operation Success!   \n",
       "<span style=\"color: #008080; text-decoration-color: #008080; font-weight: bold\">1</span>                      <span style=\"color: #008080; text-decoration-color: #008080; font-weight: bold\">00</span>  Operation Success!   \n",
       "<span style=\"color: #008080; text-decoration-color: #008080; font-weight: bold\">2</span>                          Operation Success!   \n",
       "</pre>\n"
      ],
      "text/plain": [
       "  Numero SAP     Proveedor                Razon Social Fecha de Emision  \\\n",
       "\u001b[1;36m0\u001b[0m  \u001b[1;36m231000000\u001b[0m  P20601009171               YUCA E.I.R.L.       \u001b[1;36m01\u001b[0m/\u001b[1;36m10\u001b[0m/\u001b[1;36m2023\u001b[0m   \n",
       "\u001b[1;36m1\u001b[0m  \u001b[1;36m231000001\u001b[0m  P20101266819  CAMARA DE COMERCIO DE LIMA       \u001b[1;36m02\u001b[0m/\u001b[1;36m10\u001b[0m/\u001b[1;36m2023\u001b[0m   \n",
       "\u001b[1;36m2\u001b[0m  \u001b[1;36m231000002\u001b[0m  P20101266819  CAMARA DE COMERCIO DE LIMA       \u001b[1;36m02\u001b[0m/\u001b[1;36m10\u001b[0m/\u001b[1;36m2023\u001b[0m   \n",
       "\n",
       "  Tipo de Comprobante Serie  Numero  Monto Estado Comprobante Estado RUC  \\\n",
       "\u001b[1;36m0\u001b[0m                  \u001b[1;36m01\u001b[0m  F777   \u001b[1;36m38700\u001b[0m  \u001b[1;36m67.97\u001b[0m                  \u001b[1;36m1\u001b[0m         \u001b[1;36m00\u001b[0m   \n",
       "\u001b[1;36m1\u001b[0m                  \u001b[1;36m01\u001b[0m  F038  \u001b[1;36m168800\u001b[0m  \u001b[1;36m130.0\u001b[0m                  \u001b[1;36m1\u001b[0m         \u001b[1;36m00\u001b[0m   \n",
       "\u001b[1;36m2\u001b[0m                  \u001b[1;36m01\u001b[0m  F038  \u001b[1;36m169907\u001b[0m   \u001b[1;36m20.0\u001b[0m                                 \n",
       "\n",
       "  Condicion Domicilio RUC        Observaciones  \n",
       "\u001b[1;36m0\u001b[0m                      \u001b[1;36m00\u001b[0m  Operation Success!   \n",
       "\u001b[1;36m1\u001b[0m                      \u001b[1;36m00\u001b[0m  Operation Success!   \n",
       "\u001b[1;36m2\u001b[0m                          Operation Success!   \n"
      ]
     },
     "metadata": {},
     "output_type": "display_data"
    }
   ],
   "source": [
    "run(token_access, '2023-10')"
   ]
  },
  {
   "cell_type": "code",
   "execution_count": null,
   "metadata": {},
   "outputs": [],
   "source": [
    "data = get_purchase_invoice_data(token_access, '2023-09')"
   ]
  },
  {
   "cell_type": "code",
   "execution_count": null,
   "metadata": {},
   "outputs": [],
   "source": [
    "len(data)"
   ]
  },
  {
   "cell_type": "code",
   "execution_count": null,
   "metadata": {},
   "outputs": [],
   "source": [
    "sunat_access_token = login_sunat()"
   ]
  },
  {
   "cell_type": "code",
   "execution_count": null,
   "metadata": {},
   "outputs": [],
   "source": []
  }
 ],
 "metadata": {
  "kernelspec": {
   "display_name": "Python 3.10.7 ('.env': venv)",
   "language": "python",
   "name": "python3"
  },
  "language_info": {
   "codemirror_mode": {
    "name": "ipython",
    "version": 3
   },
   "file_extension": ".py",
   "mimetype": "text/x-python",
   "name": "python",
   "nbconvert_exporter": "python",
   "pygments_lexer": "ipython3",
   "version": "3.11.2"
  },
  "orig_nbformat": 4,
  "vscode": {
   "interpreter": {
    "hash": "40b19b79d3a4486fd26f1a7d737236369660f4d89909e5bac47e24d293680d0f"
   }
  }
 },
 "nbformat": 4,
 "nbformat_minor": 2
}
