{
 "cells": [
  {
   "cell_type": "code",
   "execution_count": 1,
   "metadata": {},
   "outputs": [],
   "source": [
    "from RPA.Windows import Windows\n",
    "from time import sleep\n",
    "from datetime import datetime\n",
    "from RPA.Desktop import Desktop\n",
    "import gspread as gs\n",
    "from tasks.crear_factura_ER import * \n",
    "\n",
    "win = Windows()\n",
    "desk = Desktop()\n",
    "gc = gs.service_account(filename='tdpcorp-139fbe6dbc3c.json')"
   ]
  },
  {
   "cell_type": "code",
   "execution_count": 6,
   "metadata": {},
   "outputs": [],
   "source": [
    "control = win.get_elements('name:\"Main Menu\" and type:Window')"
   ]
  },
  {
   "cell_type": "code",
   "execution_count": 28,
   "metadata": {},
   "outputs": [
    {
     "data": {
      "text/html": [
       "<pre style=\"white-space:pre;overflow-x:auto;line-height:normal;font-family:Menlo,'DejaVu Sans Mono',consolas,'Courier New',monospace\">Hemos detectado que ya tienes una sesión abierta, deseas continuar en esta sesión?\n",
       "</pre>\n"
      ],
      "text/plain": [
       "Hemos detectado que ya tienes una sesión abierta, deseas continuar en esta sesión?\n"
      ]
     },
     "metadata": {},
     "output_type": "display_data"
    }
   ],
   "source": [
    "for w in win.list_windows():\n",
    "    if w['title'] == 'SAP Business One 10.0 - TDP CORP S.A.':\n",
    "        print('Hemos detectado que ya tienes una sesión abierta, deseas continuar en esta sesión?')\n",
    "        win.control_window('SAP Business One 10.0 - TDP CORP S.A.')"
   ]
  },
  {
   "cell_type": "code",
   "execution_count": 34,
   "metadata": {},
   "outputs": [
    {
     "data": {
      "text/html": [
       "<pre style=\"white-space:pre;overflow-x:auto;line-height:normal;font-family:Menlo,'DejaVu Sans Mono',consolas,'Courier New',monospace\">Formulario de factura de proveedores abierto\n",
       "</pre>\n"
      ],
      "text/plain": [
       "Formulario de factura de proveedores abierto\n"
      ]
     },
     "metadata": {},
     "output_type": "display_data"
    }
   ],
   "source": [
    "win.control_window('Formulario de búsqueda principal')\n",
    "win.send_keys(keys='{Ctrl}{F3}')\n",
    "win.send_keys(keys='Factura de proveedores', send_enter=True)\n",
    "print('Formulario de factura de proveedores abierto')\n",
    "sleep(1)"
   ]
  },
  {
   "cell_type": "code",
   "execution_count": 36,
   "metadata": {},
   "outputs": [
    {
     "data": {
      "text/plain": [
       "['P20511465061',\n",
       " '27.01.2023',\n",
       " 'F104',\n",
       " '1090491',\n",
       " 'OPER',\n",
       " 'THERM',\n",
       " 'LURIN',\n",
       " 'DELIVERY',\n",
       " '000061',\n",
       " '14.75',\n",
       " 'PEAJE - DESPACHO PLACA ABW-921',\n",
       " '1011116-23003']"
      ]
     },
     "execution_count": 36,
     "metadata": {},
     "output_type": "execute_result"
    }
   ],
   "source": [
    "worksheet = workbook.get_worksheet_by_id(0)\n",
    "data = worksheet.row_values(2)\n",
    "data"
   ]
  },
  {
   "cell_type": "code",
   "execution_count": 37,
   "metadata": {},
   "outputs": [],
   "source": [
    "proveedor, fecha, serie, correlativo, centro_costo, \\\n",
    "            unidad_negocio, local, canal_distr, \\\n",
    "            servicio, precio, comentarios, n_ccer = data"
   ]
  },
  {
   "cell_type": "code",
   "execution_count": 76,
   "metadata": {},
   "outputs": [
    {
     "data": {
      "text/html": [
       "<pre style=\"white-space:pre;overflow-x:auto;line-height:normal;font-family:Menlo,'DejaVu Sans Mono',consolas,'Courier New',monospace\">Formulario de factura de proveedores abierto\n",
       "</pre>\n"
      ],
      "text/plain": [
       "Formulario de factura de proveedores abierto\n"
      ]
     },
     "metadata": {},
     "output_type": "display_data"
    }
   ],
   "source": [
    "win.control_window('Formulario de búsqueda principal')\n",
    "win.send_keys(keys='{Ctrl}{F3}')\n",
    "win.send_keys(keys='Factura de proveedores', send_enter=True)\n",
    "print('Formulario de factura de proveedores abierto')\n",
    "sleep(1)\n",
    "win.send_keys(keys=proveedor)\n",
    "win.send_keys(keys='{TAB}'*7)\n",
    "win.send_keys(keys='.')\n",
    "win.send_keys(keys='{TAB}'*2)\n",
    "win.send_keys(keys=fecha)\n",
    "# select service\n",
    "control = win.control_window('name:\"Factura de proveedores\" and type:Window')\n",
    "# check scroll\n",
    "desk.click(f'coordinates:{control.left + 160},{control.top +  215}')\n",
    "sleep(1)\n",
    "desk.click(f'coordinates:{control.left + 160},{control.top +  240}')\n",
    "sleep(0.5)\n",
    "win.send_keys(keys='{TAB}')\n",
    "win.send_keys(keys='{CTRL}H')                     \n",
    "win.send_keys(keys='{SHIFT}{TAB}') \n",
    "win.send_keys(keys=servicio)\n",
    "win.send_keys(keys='{TAB}'*3)\n",
    "win.send_keys(keys=centro_costo)\n",
    "win.send_keys(keys='{TAB}')\n",
    "win.send_keys(keys=unidad_negocio)\n",
    "win.send_keys(keys='{TAB}')\n",
    "win.send_keys(keys=local)\n",
    "win.send_keys(keys='{TAB}')\n",
    "win.send_keys(keys=canal_distr)\n",
    "win.send_keys(keys='{TAB}')\n",
    "win.send_keys(keys=precio)\n",
    "win.send_keys(keys='{CTRL}R')\n",
    "win.send_keys(keys=f'{comentarios} Creado por: robot')"
   ]
  },
  {
   "cell_type": "code",
   "execution_count": 74,
   "metadata": {},
   "outputs": [],
   "source": [
    "control = win.control_window('name:\"Factura de proveedores\" and type:Window')\n",
    "# check scroll\n",
    "desk.click(f'coordinates:{control.left + 160},{control.top +  215}')\n",
    "sleep(1)\n",
    "desk.click(f'coordinates:{control.left + 160},{control.top +  240}')\n",
    "\n"
   ]
  }
 ],
 "metadata": {
  "kernelspec": {
   "display_name": "Python 3.10.7 ('.env': venv)",
   "language": "python",
   "name": "python3"
  },
  "language_info": {
   "codemirror_mode": {
    "name": "ipython",
    "version": 3
   },
   "file_extension": ".py",
   "mimetype": "text/x-python",
   "name": "python",
   "nbconvert_exporter": "python",
   "pygments_lexer": "ipython3",
   "version": "3.11.2"
  },
  "orig_nbformat": 4,
  "vscode": {
   "interpreter": {
    "hash": "40b19b79d3a4486fd26f1a7d737236369660f4d89909e5bac47e24d293680d0f"
   }
  }
 },
 "nbformat": 4,
 "nbformat_minor": 2
}
