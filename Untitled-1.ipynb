{
 "cells": [
  {
   "cell_type": "code",
   "execution_count": 3,
   "metadata": {},
   "outputs": [],
   "source": [
    "from RPA.Windows import Windows\n",
    "from time import sleep\n",
    "from datetime import datetime\n",
    "from RPA.Desktop import Desktop\n",
    "import gspread as gs\n",
    "from tasks.crear_factura_ER import * \n",
    "\n",
    "win = Windows()\n",
    "desk = Desktop()\n",
    "gc = gs.service_account(filename='tdpcorp-139fbe6dbc3c.json')"
   ]
  },
  {
   "cell_type": "code",
   "execution_count": null,
   "metadata": {},
   "outputs": [],
   "source": []
  },
  {
   "cell_type": "code",
   "execution_count": 16,
   "metadata": {},
   "outputs": [],
   "source": [
    "control = win.control_window('name:\"Factura de proveedores\" and type:Window')\n",
    "desk.click(f'coordinates:{control.left + 90},{control.bottom - 25}')\n",
    "win.send_keys(keys='{DOWN}'*2)\n",
    "sleep(0.5)\n",
    "win.send_keys(keys='{ENTER}')"
   ]
  }
 ],
 "metadata": {
  "kernelspec": {
   "display_name": "Python 3.10.7 ('.env': venv)",
   "language": "python",
   "name": "python3"
  },
  "language_info": {
   "codemirror_mode": {
    "name": "ipython",
    "version": 3
   },
   "file_extension": ".py",
   "mimetype": "text/x-python",
   "name": "python",
   "nbconvert_exporter": "python",
   "pygments_lexer": "ipython3",
   "version": "3.10.7"
  },
  "orig_nbformat": 4,
  "vscode": {
   "interpreter": {
    "hash": "40b19b79d3a4486fd26f1a7d737236369660f4d89909e5bac47e24d293680d0f"
   }
  }
 },
 "nbformat": 4,
 "nbformat_minor": 2
}
