{
 "cells": [
  {
   "cell_type": "code",
   "execution_count": 2,
   "metadata": {},
   "outputs": [],
   "source": [
    "from RPA.Windows import Windows\n",
    "from time import sleep\n",
    "from datetime import datetime\n",
    "from RPA.Desktop import Desktop\n",
    "import gspread as gs\n",
    "from tasks.crear_factura_ER import * \n",
    "\n",
    "win = Windows()\n",
    "desk = Desktop()\n",
    "gc = gs.service_account(filename='tdpcorp-139fbe6dbc3c.json')"
   ]
  },
  {
   "cell_type": "code",
   "execution_count": 14,
   "metadata": {},
   "outputs": [
    {
     "data": {
      "text/html": [
       "<pre style=\"white-space:pre;overflow-x:auto;line-height:normal;font-family:Menlo,'DejaVu Sans Mono',consolas,'Courier New',monospace\"><span style=\"font-weight: bold\">[</span>\n",
       "    <span style=\"color: #008000; text-decoration-color: #008000\">'P10708563477'</span>,\n",
       "    <span style=\"color: #008000; text-decoration-color: #008000\">'25.02.2023'</span>,\n",
       "    <span style=\"color: #008000; text-decoration-color: #008000\">''</span>,\n",
       "    <span style=\"color: #008000; text-decoration-color: #008000\">'E001'</span>,\n",
       "    <span style=\"color: #008000; text-decoration-color: #008000\">'410'</span>,\n",
       "    <span style=\"color: #008000; text-decoration-color: #008000\">'OPER'</span>,\n",
       "    <span style=\"color: #008000; text-decoration-color: #008000\">'THERM'</span>,\n",
       "    <span style=\"color: #008000; text-decoration-color: #008000\">'LURIN'</span>,\n",
       "    <span style=\"color: #008000; text-decoration-color: #008000\">'DELIVERY'</span>,\n",
       "    <span style=\"color: #008000; text-decoration-color: #008000\">'000078\\n'</span>,\n",
       "    <span style=\"color: #008000; text-decoration-color: #008000\">'60'</span>,\n",
       "    <span style=\"color: #008000; text-decoration-color: #008000\">'IMPRESION EN ADHESIVO'</span>,\n",
       "    <span style=\"color: #008000; text-decoration-color: #008000\">'1011116-23007'</span>\n",
       "<span style=\"font-weight: bold\">]</span>\n",
       "</pre>\n"
      ],
      "text/plain": [
       "\u001b[1m[\u001b[0m\n",
       "    \u001b[32m'P10708563477'\u001b[0m,\n",
       "    \u001b[32m'25.02.2023'\u001b[0m,\n",
       "    \u001b[32m''\u001b[0m,\n",
       "    \u001b[32m'E001'\u001b[0m,\n",
       "    \u001b[32m'410'\u001b[0m,\n",
       "    \u001b[32m'OPER'\u001b[0m,\n",
       "    \u001b[32m'THERM'\u001b[0m,\n",
       "    \u001b[32m'LURIN'\u001b[0m,\n",
       "    \u001b[32m'DELIVERY'\u001b[0m,\n",
       "    \u001b[32m'000078\\n'\u001b[0m,\n",
       "    \u001b[32m'60'\u001b[0m,\n",
       "    \u001b[32m'IMPRESION EN ADHESIVO'\u001b[0m,\n",
       "    \u001b[32m'1011116-23007'\u001b[0m\n",
       "\u001b[1m]\u001b[0m\n"
      ]
     },
     "metadata": {},
     "output_type": "display_data"
    },
    {
     "data": {
      "text/html": [
       "<pre style=\"white-space:pre;overflow-x:auto;line-height:normal;font-family:Menlo,'DejaVu Sans Mono',consolas,'Courier New',monospace\">Formulario de factura de proveedores abierto\n",
       "</pre>\n"
      ],
      "text/plain": [
       "Formulario de factura de proveedores abierto\n"
      ]
     },
     "metadata": {},
     "output_type": "display_data"
    }
   ],
   "source": [
    "data = leer_hoja()\n",
    "console.print(data)\n",
    "formulario_factura_de_proveedores()\n",
    "llenar_datos_factura(data)\n"
   ]
  },
  {
   "cell_type": "code",
   "execution_count": 15,
   "metadata": {},
   "outputs": [
    {
     "data": {
      "text/plain": [
       "'000078'"
      ]
     },
     "execution_count": 15,
     "metadata": {},
     "output_type": "execute_result"
    }
   ],
   "source": [
    "\"000078\\n\".strip()"
   ]
  },
  {
   "cell_type": "code",
   "execution_count": null,
   "metadata": {},
   "outputs": [],
   "source": [
    "proveedor, fecha_doc, fecha_cont, serie, correlativo, centro_costo, \\\n",
    "            unidad_negocio, local, canal_distr, \\\n",
    "            servicio, precio, comentarios, n_cce = leer_hoja()"
   ]
  },
  {
   "cell_type": "code",
   "execution_count": null,
   "metadata": {},
   "outputs": [],
   "source": [
    "win.control_window('Formulario de búsqueda principal')\n",
    "win.send_keys(keys='{Ctrl}{F3}')\n",
    "win.send_keys(keys='Factura de proveedores', send_enter=True)\n",
    "print('Formulario de factura de proveedores abierto')\n",
    "sleep(1)\n",
    "win.send_keys(keys=proveedor)\n",
    "win.send_keys(keys='{TAB}'*7)\n",
    "win.send_keys(keys=fecha_cont or '.')\n",
    "win.send_keys(keys='{TAB}'*2)\n",
    "win.send_keys(keys=fecha_doc or '.')\n",
    "# select service\n",
    "control = win.control_window('name:\"Factura de proveedores\" and type:Window')\n",
    "# check scroll\n",
    "desk.click(f'coordinates:{control.left + 160},{control.top +  215}')\n",
    "sleep(1)\n",
    "desk.click(f'coordinates:{control.left + 160},{control.top +  240}')\n",
    "sleep(0.5)\n",
    "win.send_keys(keys='{TAB}')\n",
    "win.send_keys(keys='{CTRL}H')"
   ]
  },
  {
   "cell_type": "code",
   "execution_count": null,
   "metadata": {},
   "outputs": [],
   "source": []
  }
 ],
 "metadata": {
  "kernelspec": {
   "display_name": "Python 3.10.7 ('.env': venv)",
   "language": "python",
   "name": "python3"
  },
  "language_info": {
   "codemirror_mode": {
    "name": "ipython",
    "version": 3
   },
   "file_extension": ".py",
   "mimetype": "text/x-python",
   "name": "python",
   "nbconvert_exporter": "python",
   "pygments_lexer": "ipython3",
   "version": "3.11.2"
  },
  "orig_nbformat": 4,
  "vscode": {
   "interpreter": {
    "hash": "40b19b79d3a4486fd26f1a7d737236369660f4d89909e5bac47e24d293680d0f"
   }
  }
 },
 "nbformat": 4,
 "nbformat_minor": 2
}
