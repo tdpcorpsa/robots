{
 "cells": [
  {
   "cell_type": "code",
   "execution_count": 1,
   "metadata": {},
   "outputs": [],
   "source": [
    "from RPA.Windows import Windows\n",
    "from time import sleep\n",
    "from datetime import datetime\n",
    "from RPA.Desktop import Desktop\n",
    "import gspread as gs\n",
    "from tasks.crear_factura_ER import * \n",
    "\n",
    "win = Windows()\n",
    "desk = Desktop()\n",
    "gc = gs.service_account(filename='tdpcorp-139fbe6dbc3c.json')"
   ]
  },
  {
   "cell_type": "code",
   "execution_count": 2,
   "metadata": {},
   "outputs": [
    {
     "data": {
      "text/html": [
       "<pre style=\"white-space:pre;overflow-x:auto;line-height:normal;font-family:Menlo,'DejaVu Sans Mono',consolas,'Courier New',monospace\"><span style=\"font-weight: bold\">[</span>\n",
       "    <span style=\"color: #008000; text-decoration-color: #008000\">'P20603235780'</span>,\n",
       "    <span style=\"color: #008000; text-decoration-color: #008000\">'31.05.2023'</span>,\n",
       "    <span style=\"color: #008000; text-decoration-color: #008000\">'31.05.2023'</span>,\n",
       "    <span style=\"color: #008000; text-decoration-color: #008000\">'31.05.2023'</span>,\n",
       "    <span style=\"color: #008000; text-decoration-color: #008000\">'F001'</span>,\n",
       "    <span style=\"color: #008000; text-decoration-color: #008000\">'7182165'</span>,\n",
       "    <span style=\"color: #008000; text-decoration-color: #008000\">'ADMIN'</span>,\n",
       "    <span style=\"color: #008000; text-decoration-color: #008000\">'THERM'</span>,\n",
       "    <span style=\"color: #008000; text-decoration-color: #008000\">'MAGD'</span>,\n",
       "    <span style=\"color: #008000; text-decoration-color: #008000\">'CORP'</span>,\n",
       "    <span style=\"color: #008000; text-decoration-color: #008000\">'9763921'</span>,\n",
       "    <span style=\"color: #008000; text-decoration-color: #008000\">'103.15'</span>,\n",
       "    <span style=\"color: #008000; text-decoration-color: #008000\">'0'</span>,\n",
       "    <span style=\"color: #008000; text-decoration-color: #008000\">'121.72'</span>,\n",
       "    <span style=\"color: #008000; text-decoration-color: #008000\">'COMISION IZIPAY 05/2023'</span>,\n",
       "    <span style=\"color: #008000; text-decoration-color: #008000\">''</span>,\n",
       "    <span style=\"color: #008000; text-decoration-color: #008000\">'0'</span>\n",
       "<span style=\"font-weight: bold\">]</span>\n",
       "</pre>\n"
      ],
      "text/plain": [
       "\u001b[1m[\u001b[0m\n",
       "    \u001b[32m'P20603235780'\u001b[0m,\n",
       "    \u001b[32m'31.05.2023'\u001b[0m,\n",
       "    \u001b[32m'31.05.2023'\u001b[0m,\n",
       "    \u001b[32m'31.05.2023'\u001b[0m,\n",
       "    \u001b[32m'F001'\u001b[0m,\n",
       "    \u001b[32m'7182165'\u001b[0m,\n",
       "    \u001b[32m'ADMIN'\u001b[0m,\n",
       "    \u001b[32m'THERM'\u001b[0m,\n",
       "    \u001b[32m'MAGD'\u001b[0m,\n",
       "    \u001b[32m'CORP'\u001b[0m,\n",
       "    \u001b[32m'9763921'\u001b[0m,\n",
       "    \u001b[32m'103.15'\u001b[0m,\n",
       "    \u001b[32m'0'\u001b[0m,\n",
       "    \u001b[32m'121.72'\u001b[0m,\n",
       "    \u001b[32m'COMISION IZIPAY 05/2023'\u001b[0m,\n",
       "    \u001b[32m''\u001b[0m,\n",
       "    \u001b[32m'0'\u001b[0m\n",
       "\u001b[1m]\u001b[0m\n"
      ]
     },
     "metadata": {},
     "output_type": "display_data"
    },
    {
     "data": {
      "text/html": [
       "<pre style=\"white-space:pre;overflow-x:auto;line-height:normal;font-family:Menlo,'DejaVu Sans Mono',consolas,'Courier New',monospace\">Formulario de factura de proveedores abierto\n",
       "</pre>\n"
      ],
      "text/plain": [
       "Formulario de factura de proveedores abierto\n"
      ]
     },
     "metadata": {},
     "output_type": "display_data"
    },
    {
     "ename": "IndexError",
     "evalue": "string index out of range",
     "output_type": "error",
     "traceback": [
      "\u001b[1;31m---------------------------------------------------------------------------\u001b[0m",
      "\u001b[1;31mIndexError\u001b[0m                                Traceback (most recent call last)",
      "Cell \u001b[1;32mIn[2], line 4\u001b[0m\n\u001b[0;32m      2\u001b[0m console\u001b[39m.\u001b[39mprint(data)\n\u001b[0;32m      3\u001b[0m formulario_factura_de_proveedores()\n\u001b[1;32m----> 4\u001b[0m llenar_datos_factura(data)\n",
      "File \u001b[1;32mc:\\projects\\tdpcorp\\robots\\tasks\\crear_factura_ER.py:115\u001b[0m, in \u001b[0;36mllenar_datos_factura\u001b[1;34m(data)\u001b[0m\n\u001b[0;32m    113\u001b[0m \u001b[39m# add Numero CC/ER\u001b[39;00m\n\u001b[0;32m    114\u001b[0m win\u001b[39m.\u001b[39msend_keys(keys\u001b[39m=\u001b[39m\u001b[39m'\u001b[39m\u001b[39m{TAB}\u001b[39;00m\u001b[39m'\u001b[39m)\n\u001b[1;32m--> 115\u001b[0m win\u001b[39m.\u001b[39;49msend_keys(keys\u001b[39m=\u001b[39;49mn_ccer\u001b[39m.\u001b[39;49mstrip())\n",
      "File \u001b[1;32mc:\\projects\\tdpcorp\\robots\\.env\\Lib\\site-packages\\RPA\\Windows\\keywords\\action.py:265\u001b[0m, in \u001b[0;36mActionKeywords.send_keys\u001b[1;34m(self, locator, keys, interval, wait_time, send_enter)\u001b[0m\n\u001b[0;32m    263\u001b[0m \u001b[39mif\u001b[39;00m \u001b[39mhasattr\u001b[39m(element, \u001b[39m\"\u001b[39m\u001b[39mSendKeys\u001b[39m\u001b[39m\"\u001b[39m):\n\u001b[0;32m    264\u001b[0m     \u001b[39mself\u001b[39m\u001b[39m.\u001b[39mlogger\u001b[39m.\u001b[39minfo(\u001b[39m\"\u001b[39m\u001b[39mSending keys \u001b[39m\u001b[39m%r\u001b[39;00m\u001b[39m to element \u001b[39m\u001b[39m%r\u001b[39;00m\u001b[39m\"\u001b[39m, keys, element)\n\u001b[1;32m--> 265\u001b[0m     element\u001b[39m.\u001b[39;49mSendKeys(text\u001b[39m=\u001b[39;49mkeys, interval\u001b[39m=\u001b[39;49minterval, waitTime\u001b[39m=\u001b[39;49mkeys_wait_time)\n\u001b[0;32m    266\u001b[0m \u001b[39melse\u001b[39;00m:\n\u001b[0;32m    267\u001b[0m     \u001b[39mraise\u001b[39;00m ActionNotPossible(\n\u001b[0;32m    268\u001b[0m         \u001b[39mf\u001b[39m\u001b[39m\"\u001b[39m\u001b[39mElement found with \u001b[39m\u001b[39m{\u001b[39;00mlocator\u001b[39m!r}\u001b[39;00m\u001b[39m does not have \u001b[39m\u001b[39m'\u001b[39m\u001b[39mSendKeys\u001b[39m\u001b[39m'\u001b[39m\u001b[39m attribute\u001b[39m\u001b[39m\"\u001b[39m\n\u001b[0;32m    269\u001b[0m     )\n",
      "File \u001b[1;32mc:\\projects\\tdpcorp\\robots\\.env\\Lib\\site-packages\\uiautomation\\uiautomation.py:2680\u001b[0m, in \u001b[0;36mSendKeys\u001b[1;34m(text, interval, waitTime, charMode, debug)\u001b[0m\n\u001b[0;32m   2678\u001b[0m lastKeyValue \u001b[39m=\u001b[39m \u001b[39mNone\u001b[39;00m\n\u001b[0;32m   2679\u001b[0m \u001b[39mwhile\u001b[39;00m \u001b[39mTrue\u001b[39;00m:\n\u001b[1;32m-> 2680\u001b[0m     \u001b[39mif\u001b[39;00m text[i] \u001b[39m==\u001b[39m \u001b[39m'\u001b[39m\u001b[39m{\u001b[39m\u001b[39m'\u001b[39m:\n\u001b[0;32m   2681\u001b[0m         rindex \u001b[39m=\u001b[39m text\u001b[39m.\u001b[39mfind(\u001b[39m'\u001b[39m\u001b[39m}\u001b[39m\u001b[39m'\u001b[39m, i)\n\u001b[0;32m   2682\u001b[0m         \u001b[39mif\u001b[39;00m rindex \u001b[39m==\u001b[39m i \u001b[39m+\u001b[39m \u001b[39m1\u001b[39m:  \u001b[39m# {}}\u001b[39;00m\n",
      "\u001b[1;31mIndexError\u001b[0m: string index out of range"
     ]
    }
   ],
   "source": [
    "data = leer_hoja()\n",
    "console.print(data)\n",
    "formulario_factura_de_proveedores()\n",
    "llenar_datos_factura(data)\n"
   ]
  },
  {
   "cell_type": "code",
   "execution_count": 6,
   "metadata": {},
   "outputs": [
    {
     "data": {
      "text/plain": [
       "[]"
      ]
     },
     "execution_count": 6,
     "metadata": {},
     "output_type": "execute_result"
    }
   ],
   "source": [
    "worksheet = workbook.get_worksheet_by_id(0)\n",
    "data = worksheet.row_values(2)\n",
    "data"
   ]
  },
  {
   "cell_type": "code",
   "execution_count": null,
   "metadata": {},
   "outputs": [],
   "source": []
  }
 ],
 "metadata": {
  "kernelspec": {
   "display_name": "Python 3.10.7 ('.env': venv)",
   "language": "python",
   "name": "python3"
  },
  "language_info": {
   "codemirror_mode": {
    "name": "ipython",
    "version": 3
   },
   "file_extension": ".py",
   "mimetype": "text/x-python",
   "name": "python",
   "nbconvert_exporter": "python",
   "pygments_lexer": "ipython3",
   "version": "3.11.2"
  },
  "orig_nbformat": 4,
  "vscode": {
   "interpreter": {
    "hash": "40b19b79d3a4486fd26f1a7d737236369660f4d89909e5bac47e24d293680d0f"
   }
  }
 },
 "nbformat": 4,
 "nbformat_minor": 2
}
