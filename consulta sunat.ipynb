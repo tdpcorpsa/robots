{
 "cells": [
  {
   "cell_type": "code",
   "execution_count": 50,
   "metadata": {},
   "outputs": [],
   "source": [
    "import requests"
   ]
  },
  {
   "cell_type": "code",
   "execution_count": 51,
   "metadata": {},
   "outputs": [],
   "source": [
    "client_id = '82fb43db-36b0-48b4-ae43-71be417a6f13'\n",
    "client_secret = 'v/kXAEoY4cH2m7qLJOX7sQ=='\n",
    "url = f\"https://api-seguridad.sunat.gob.pe/v1/clientesextranet/{client_id}/oauth2/token/\""
   ]
  },
  {
   "cell_type": "code",
   "execution_count": 52,
   "metadata": {},
   "outputs": [
    {
     "data": {
      "text/plain": [
       "{'access_token': 'eyJraWQiOiJhcGkuc3VuYXQuZ29iLnBlLmtpZDEwMSIsInR5cCI6IkpXVCIsImFsZyI6IlJTMjU2In0.eyJzdWIiOiI4MmZiNDNkYi0zNmIwLTQ4YjQtYWU0My03MWJlNDE3YTZmMTMiLCJhdWQiOiJbe1wiYXBpXCI6XCJodHRwczpcL1wvYXBpLnN1bmF0LmdvYi5wZVwiLFwicmVjdXJzb1wiOlt7XCJpZFwiOlwiXC92MVwvY29udHJpYnV5ZW50ZVwvY29udHJpYnV5ZW50ZXNcIixcImluZGljYWRvclwiOlwiMFwiLFwiZ3RcIjpcIjAxMDAwMFwifV19XSIsIm5iZiI6MTY5NzA1MjQ5OSwiY2xpZW50SWQiOiI4MmZiNDNkYi0zNmIwLTQ4YjQtYWU0My03MWJlNDE3YTZmMTMiLCJpc3MiOiJodHRwczpcL1wvYXBpLXNlZ3VyaWRhZC5zdW5hdC5nb2IucGVcL3YxXC9jbGllbnRlc2V4dHJhbmV0XC84MmZiNDNkYi0zNmIwLTQ4YjQtYWU0My03MWJlNDE3YTZmMTNcL29hdXRoMlwvdG9rZW5cLyIsImV4cCI6MTY5NzA1NjA5OSwiZ3JhbnRUeXBlIjoiY2xpZW50X2NyZWRlbnRpYWxzIiwiaWF0IjoxNjk3MDUyNDk5fQ.ySlGfhnL2tyJYUrACYKEnU_wCtsUVLyuwSClj-EeJ2ZXsYDrybeQZJ7K7fPNPB8bgF18LU2HC0n-qwl3x71sT4foiXVt0mYTMZV3JnUkuNX_iX9QJCKgTtd_wBwjEYMCa9y6ERyfA-sU-uZuizK98rbC9tiOQQ38amahX1t2XQv06BcQac6C4E4MiH3yrPTx5yZ1efzPIhI0Pe7vu8pM0nEX91WkIMaig0Dzjhi_Fe1SZKo2eZBFRI3Ak3AYnvNqe5v3sWf55QnXLUKCokMfZvNW_DEkWv1kPdRRn7f_Iy_E8pt2Kmx3yARj0cF5X9Rs9FTlZfzgkM7gnBlU5z_9FA',\n",
       " 'token_type': 'JWT',\n",
       " 'expires_in': 3600}"
      ]
     },
     "execution_count": 52,
     "metadata": {},
     "output_type": "execute_result"
    }
   ],
   "source": [
    "params = {\n",
    "    \"grant_type\": \"client_credentials\",\n",
    "    \"scope\": \"https://api.sunat.gob.pe/v1/contribuyente/contribuyentes\",\n",
    "    \"client_id\": client_id,\n",
    "    \"client_secret\": client_secret\n",
    "}\n",
    "headers = {\n",
    "    \"Content-Type\": \"application/x-www-form-urlencoded\",\n",
    "    \"Accept\": \"application/json\"\n",
    "}\n",
    "res = requests.post(url, data=params)\n",
    "res.json()"
   ]
  },
  {
   "cell_type": "code",
   "execution_count": 53,
   "metadata": {},
   "outputs": [
    {
     "data": {
      "text/plain": [
       "'eyJraWQiOiJhcGkuc3VuYXQuZ29iLnBlLmtpZDEwMSIsInR5cCI6IkpXVCIsImFsZyI6IlJTMjU2In0.eyJzdWIiOiI4MmZiNDNkYi0zNmIwLTQ4YjQtYWU0My03MWJlNDE3YTZmMTMiLCJhdWQiOiJbe1wiYXBpXCI6XCJodHRwczpcL1wvYXBpLnN1bmF0LmdvYi5wZVwiLFwicmVjdXJzb1wiOlt7XCJpZFwiOlwiXC92MVwvY29udHJpYnV5ZW50ZVwvY29udHJpYnV5ZW50ZXNcIixcImluZGljYWRvclwiOlwiMFwiLFwiZ3RcIjpcIjAxMDAwMFwifV19XSIsIm5iZiI6MTY5NzA1MjQ5OSwiY2xpZW50SWQiOiI4MmZiNDNkYi0zNmIwLTQ4YjQtYWU0My03MWJlNDE3YTZmMTMiLCJpc3MiOiJodHRwczpcL1wvYXBpLXNlZ3VyaWRhZC5zdW5hdC5nb2IucGVcL3YxXC9jbGllbnRlc2V4dHJhbmV0XC84MmZiNDNkYi0zNmIwLTQ4YjQtYWU0My03MWJlNDE3YTZmMTNcL29hdXRoMlwvdG9rZW5cLyIsImV4cCI6MTY5NzA1NjA5OSwiZ3JhbnRUeXBlIjoiY2xpZW50X2NyZWRlbnRpYWxzIiwiaWF0IjoxNjk3MDUyNDk5fQ.ySlGfhnL2tyJYUrACYKEnU_wCtsUVLyuwSClj-EeJ2ZXsYDrybeQZJ7K7fPNPB8bgF18LU2HC0n-qwl3x71sT4foiXVt0mYTMZV3JnUkuNX_iX9QJCKgTtd_wBwjEYMCa9y6ERyfA-sU-uZuizK98rbC9tiOQQ38amahX1t2XQv06BcQac6C4E4MiH3yrPTx5yZ1efzPIhI0Pe7vu8pM0nEX91WkIMaig0Dzjhi_Fe1SZKo2eZBFRI3Ak3AYnvNqe5v3sWf55QnXLUKCokMfZvNW_DEkWv1kPdRRn7f_Iy_E8pt2Kmx3yARj0cF5X9Rs9FTlZfzgkM7gnBlU5z_9FA'"
      ]
     },
     "execution_count": 53,
     "metadata": {},
     "output_type": "execute_result"
    }
   ],
   "source": [
    "access_token = res.json()['access_token']\n",
    "access_token"
   ]
  },
  {
   "cell_type": "code",
   "execution_count": 57,
   "metadata": {},
   "outputs": [
    {
     "data": {
      "text/plain": [
       "{'success': True, 'message': 'Operation Success! ', 'data': {'estadoCp': '0'}}"
      ]
     },
     "execution_count": 57,
     "metadata": {},
     "output_type": "execute_result"
    }
   ],
   "source": [
    "num_doc = \"01-F548-00229353\"\n",
    "\n",
    "headers = {\n",
    "    \"Authorization\": f\"Bearer {access_token}\",\n",
    "    \"Accept\": \"application/json\"\n",
    "}\n",
    "params = {\n",
    "    \"numRuc\": \"20100066603\",\n",
    "    \"codComp\": '01',\n",
    "    \"numeroSerie\": 'F001',\n",
    "    \"numero\": '15751',\n",
    "    \"fechaEmision\": \"29/09/2023\",\n",
    "    \"monto\": \"6.49\",\n",
    "}\n",
    "url = f'https://api.sunat.gob.pe/v1/contribuyente/contribuyentes/20100286476/validarcomprobante'\n",
    "res = requests.post(url, headers=headers, json=params)\n",
    "res.json()"
   ]
  }
 ],
 "metadata": {
  "kernelspec": {
   "display_name": "Python 3.10.7 ('.env': venv)",
   "language": "python",
   "name": "python3"
  },
  "language_info": {
   "codemirror_mode": {
    "name": "ipython",
    "version": 3
   },
   "file_extension": ".py",
   "mimetype": "text/x-python",
   "name": "python",
   "nbconvert_exporter": "python",
   "pygments_lexer": "ipython3",
   "version": "3.11.2"
  },
  "orig_nbformat": 4,
  "vscode": {
   "interpreter": {
    "hash": "40b19b79d3a4486fd26f1a7d737236369660f4d89909e5bac47e24d293680d0f"
   }
  }
 },
 "nbformat": 4,
 "nbformat_minor": 2
}
